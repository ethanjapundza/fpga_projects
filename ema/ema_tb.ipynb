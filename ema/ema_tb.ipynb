{
 "cells": [
  {
   "cell_type": "code",
   "execution_count": 1,
   "metadata": {},
   "outputs": [],
   "source": [
    "import matplotlib.pyplot as plt\n",
    "import numpy as np\n",
    "import math"
   ]
  },
  {
   "cell_type": "code",
   "execution_count": 2,
   "metadata": {},
   "outputs": [],
   "source": [
    "y_last = 0\n",
    "def ema(x):\n",
    "    global y_last\n",
    "    y = math.floor(x/2) + math.floor(y_last/ 2)\n",
    "    y_last = y\n",
    "    return y"
   ]
  },
  {
   "cell_type": "code",
   "execution_count": 3,
   "metadata": {},
   "outputs": [
    {
     "data": {
      "image/png": "[encoded data removed]",
      "text/plain": [
       "<Figure size 432x288 with 1 Axes>"
      ]
     },
     "metadata": {
      "needs_background": "light"
     },
     "output_type": "display_data"
    }
   ],
   "source": [
    "x = np.arange(0, 4*np.pi, 0.1)\n",
    "y = np.sin(x)\n",
    "\n",
    "plt.plot(x, y)\n",
    "plt.show()"
   ]
  },
  {
   "cell_type": "code",
   "execution_count": 4,
   "metadata": {},
   "outputs": [],
   "source": [
    "y = y * 1000\n",
    "y += 1000\n",
    "y = np.array([int(i) for i in y])"
   ]
  },
  {
   "cell_type": "code",
   "execution_count": 5,
   "metadata": {},
   "outputs": [
    {
     "data": {
      "text/plain": [
       "[1000,\n",
       " 1099,\n",
       " 1198,\n",
       " 1295,\n",
       " 1389,\n",
       " 1479,\n",
       " 1564,\n",
       " 1644,\n",
       " 1717,\n",
       " 1783,\n",
       " 1841,\n",
       " 1891,\n",
       " 1932,\n",
       " 1963,\n",
       " 1985,\n",
       " 1997,\n",
       " 1999,\n",
       " 1991,\n",
       " 1973,\n",
       " 1946,\n",
       " 1909,\n",
       " 1863,\n",
       " 1808,\n",
       " 1745,\n",
       " 1675,\n",
       " 1598,\n",
       " 1515,\n",
       " 1427,\n",
       " 1334,\n",
       " 1239,\n",
       " 1141,\n",
       " 1041,\n",
       " 941,\n",
       " 842,\n",
       " 744,\n",
       " 649,\n",
       " 557,\n",
       " 470,\n",
       " 388,\n",
       " 312,\n",
       " 243,\n",
       " 181,\n",
       " 128,\n",
       " 83,\n",
       " 48,\n",
       " 22,\n",
       " 6,\n",
       " 0,\n",
       " 3,\n",
       " 17,\n",
       " 41,\n",
       " 74,\n",
       " 116,\n",
       " 167,\n",
       " 227,\n",
       " 294,\n",
       " 368,\n",
       " 449,\n",
       " 535,\n",
       " 626,\n",
       " 720,\n",
       " 817,\n",
       " 916,\n",
       " 1016,\n",
       " 1116,\n",
       " 1215,\n",
       " 1311,\n",
       " 1404,\n",
       " 1494,\n",
       " 1578,\n",
       " 1656,\n",
       " 1728,\n",
       " 1793,\n",
       " 1850,\n",
       " 1898,\n",
       " 1937,\n",
       " 1967,\n",
       " 1988,\n",
       " 1998,\n",
       " 1998,\n",
       " 1989,\n",
       " 1969,\n",
       " 1940,\n",
       " 1902,\n",
       " 1854,\n",
       " 1798,\n",
       " 1734,\n",
       " 1662,\n",
       " 1584,\n",
       " 1501,\n",
       " 1412,\n",
       " 1319,\n",
       " 1222,\n",
       " 1124,\n",
       " 1024,\n",
       " 924,\n",
       " 825,\n",
       " 728,\n",
       " 633,\n",
       " 542,\n",
       " 455,\n",
       " 374,\n",
       " 300,\n",
       " 232,\n",
       " 172,\n",
       " 120,\n",
       " 77,\n",
       " 43,\n",
       " 19,\n",
       " 4,\n",
       " 0,\n",
       " 5,\n",
       " 20,\n",
       " 45,\n",
       " 80,\n",
       " 124,\n",
       " 177,\n",
       " 238,\n",
       " 306,\n",
       " 381,\n",
       " 463,\n",
       " 550,\n",
       " 641,\n",
       " 736,\n",
       " 834,\n",
       " 933]"
      ]
     },
     "execution_count": 5,
     "metadata": {},
     "output_type": "execute_result"
    }
   ],
   "source": [
    "list(y)"
   ]
  },
  {
   "cell_type": "code",
   "execution_count": 6,
   "metadata": {},
   "outputs": [],
   "source": [
    "x = x * 1000\n",
    "x = np.array([int(i) for i in x])"
   ]
  },
  {
   "cell_type": "code",
   "execution_count": 7,
   "metadata": {},
   "outputs": [
    {
     "data": {
      "text/plain": [
       "[0,\n",
       " 100,\n",
       " 200,\n",
       " 300,\n",
       " 400,\n",
       " 500,\n",
       " 600,\n",
       " 700,\n",
       " 800,\n",
       " 900,\n",
       " 1000,\n",
       " 1100,\n",
       " 1200,\n",
       " 1300,\n",
       " 1400,\n",
       " 1500,\n",
       " 1600,\n",
       " 1700,\n",
       " 1800,\n",
       " 1900,\n",
       " 2000,\n",
       " 2100,\n",
       " 2200,\n",
       " 2300,\n",
       " 2400,\n",
       " 2500,\n",
       " 2600,\n",
       " 2700,\n",
       " 2800,\n",
       " 2900,\n",
       " 3000,\n",
       " 3100,\n",
       " 3200,\n",
       " 3300,\n",
       " 3400,\n",
       " 3500,\n",
       " 3600,\n",
       " 3700,\n",
       " 3800,\n",
       " 3900,\n",
       " 4000,\n",
       " 4100,\n",
       " 4200,\n",
       " 4300,\n",
       " 4400,\n",
       " 4500,\n",
       " 4600,\n",
       " 4700,\n",
       " 4800,\n",
       " 4900,\n",
       " 5000,\n",
       " 5100,\n",
       " 5200,\n",
       " 5300,\n",
       " 5400,\n",
       " 5500,\n",
       " 5600,\n",
       " 5700,\n",
       " 5800,\n",
       " 5900,\n",
       " 6000,\n",
       " 6100,\n",
       " 6200,\n",
       " 6300,\n",
       " 6400,\n",
       " 6500,\n",
       " 6600,\n",
       " 6700,\n",
       " 6800,\n",
       " 6900,\n",
       " 7000,\n",
       " 7100,\n",
       " 7200,\n",
       " 7300,\n",
       " 7400,\n",
       " 7500,\n",
       " 7600,\n",
       " 7700,\n",
       " 7800,\n",
       " 7900,\n",
       " 8000,\n",
       " 8100,\n",
       " 8200,\n",
       " 8300,\n",
       " 8400,\n",
       " 8500,\n",
       " 8600,\n",
       " 8700,\n",
       " 8800,\n",
       " 8900,\n",
       " 9000,\n",
       " 9100,\n",
       " 9200,\n",
       " 9300,\n",
       " 9400,\n",
       " 9500,\n",
       " 9600,\n",
       " 9700,\n",
       " 9800,\n",
       " 9900,\n",
       " 10000,\n",
       " 10100,\n",
       " 10200,\n",
       " 10300,\n",
       " 10400,\n",
       " 10500,\n",
       " 10600,\n",
       " 10700,\n",
       " 10800,\n",
       " 10900,\n",
       " 11000,\n",
       " 11100,\n",
       " 11200,\n",
       " 11300,\n",
       " 11400,\n",
       " 11500,\n",
       " 11600,\n",
       " 11700,\n",
       " 11800,\n",
       " 11900,\n",
       " 12000,\n",
       " 12100,\n",
       " 12200,\n",
       " 12300,\n",
       " 12400,\n",
       " 12500]"
      ]
     },
     "execution_count": 7,
     "metadata": {},
     "output_type": "execute_result"
    }
   ],
   "source": [
    "list(x)"
   ]
  },
  {
   "cell_type": "code",
   "execution_count": 8,
   "metadata": {},
   "outputs": [],
   "source": [
    "y_new = np.empty(len(y), dtype=int)\n",
    "for i in range(len(y_new)):\n",
    "    y_new[i] = ema(y[i])"
   ]
  },
  {
   "cell_type": "code",
   "execution_count": 9,
   "metadata": {},
   "outputs": [
    {
     "name": "stdout",
     "output_type": "stream",
     "text": [
      "[ 250  461  644  806  951 1082 1202 1312 1413 1504 1588 1663 1730 1787 1836\n",
      " 1876 1906 1926 1937 1938 1930 1912 1886 1850 1805 1752 1692 1625 1551 1472\n",
      " 1389 1301 1210 1117 1023  929  835  743  654  568  486  409  338  273  216\n",
      "  167  126   94   70   56   52   57   71   94  126  167  217  274  338  409\n",
      "  486  568  655  745  837  930 1024 1119 1212 1303 1391 1475 1554 1627 1694\n",
      " 1754 1806 1851 1887 1914 1932 1941 1940 1930 1910 1881 1843 1797 1743 1682\n",
      " 1614 1539 1459 1375 1287 1196 1103 1009  914  820  728  639  554  473  397\n",
      "  327  264  208  160  121   90   68   56   53   59   75  100  134  176  227\n",
      "  285  350  422  500  583  670]\n"
     ]
    }
   ],
   "source": [
    "print(y_new)"
   ]
  },
  {
   "cell_type": "code",
   "execution_count": 22,
   "metadata": {},
   "outputs": [],
   "source": [
    "file = open(\"/home/ejapundz/fa19-research/ema/ema.sdk/ema_test/src/ema_tb.h\", \"w\")"
   ]
  },
  {
   "cell_type": "code",
   "execution_count": 23,
   "metadata": {},
   "outputs": [
    {
     "data": {
      "text/plain": [
       "3"
      ]
     },
     "execution_count": 23,
     "metadata": {},
     "output_type": "execute_result"
    }
   ],
   "source": [
    "file.write(\"int y_input[] = {\")\n",
    "for i in y:\n",
    "    file.write(str(i) + \", \")\n",
    "file.write(\"};\\n\")"
   ]
  },
  {
   "cell_type": "code",
   "execution_count": 15,
   "metadata": {},
   "outputs": [
    {
     "data": {
      "text/plain": [
       "3"
      ]
     },
     "execution_count": 15,
     "metadata": {},
     "output_type": "execute_result"
    }
   ],
   "source": [
    "file.write(\"int y_output[] = {\")\n",
    "for i in y_new:\n",
    "    file.write(str(i) + \", \")\n",
    "file.write(\"};\\n\")"
   ]
  },
  {
   "cell_type": "code",
   "execution_count": 25,
   "metadata": {},
   "outputs": [],
   "source": [
    "file.close()"
   ]
  },
  {
   "cell_type": "code",
   "execution_count": null,
   "metadata": {},
   "outputs": [],
   "source": []
  },
  {
   "cell_type": "code",
   "execution_count": 12,
   "metadata": {},
   "outputs": [
    {
     "data": {
      "text/plain": [
       "[1000,\n",
       " 1099,\n",
       " 1198,\n",
       " 1295,\n",
       " 1389,\n",
       " 1479,\n",
       " 1564,\n",
       " 1644,\n",
       " 1717,\n",
       " 1783,\n",
       " 1841,\n",
       " 1891,\n",
       " 1932,\n",
       " 1963,\n",
       " 1985,\n",
       " 1997,\n",
       " 1999,\n",
       " 1991,\n",
       " 1973,\n",
       " 1946,\n",
       " 1909,\n",
       " 1863,\n",
       " 1808,\n",
       " 1745,\n",
       " 1675,\n",
       " 1598,\n",
       " 1515,\n",
       " 1427,\n",
       " 1334,\n",
       " 1239,\n",
       " 1141,\n",
       " 1041,\n",
       " 941,\n",
       " 842,\n",
       " 744,\n",
       " 649,\n",
       " 557,\n",
       " 470,\n",
       " 388,\n",
       " 312,\n",
       " 243,\n",
       " 181,\n",
       " 128,\n",
       " 83,\n",
       " 48,\n",
       " 22,\n",
       " 6,\n",
       " 0,\n",
       " 3,\n",
       " 17,\n",
       " 41,\n",
       " 74,\n",
       " 116,\n",
       " 167,\n",
       " 227,\n",
       " 294,\n",
       " 368,\n",
       " 449,\n",
       " 535,\n",
       " 626,\n",
       " 720,\n",
       " 817,\n",
       " 916,\n",
       " 1016,\n",
       " 1116,\n",
       " 1215,\n",
       " 1311,\n",
       " 1404,\n",
       " 1494,\n",
       " 1578,\n",
       " 1656,\n",
       " 1728,\n",
       " 1793,\n",
       " 1850,\n",
       " 1898,\n",
       " 1937,\n",
       " 1967,\n",
       " 1988,\n",
       " 1998,\n",
       " 1998,\n",
       " 1989,\n",
       " 1969,\n",
       " 1940,\n",
       " 1902,\n",
       " 1854,\n",
       " 1798,\n",
       " 1734,\n",
       " 1662,\n",
       " 1584,\n",
       " 1501,\n",
       " 1412,\n",
       " 1319,\n",
       " 1222,\n",
       " 1124,\n",
       " 1024,\n",
       " 924,\n",
       " 825,\n",
       " 728,\n",
       " 633,\n",
       " 542,\n",
       " 455,\n",
       " 374,\n",
       " 300,\n",
       " 232,\n",
       " 172,\n",
       " 120,\n",
       " 77,\n",
       " 43,\n",
       " 19,\n",
       " 4,\n",
       " 0,\n",
       " 5,\n",
       " 20,\n",
       " 45,\n",
       " 80,\n",
       " 124,\n",
       " 177,\n",
       " 238,\n",
       " 306,\n",
       " 381,\n",
       " 463,\n",
       " 550,\n",
       " 641,\n",
       " 736,\n",
       " 834,\n",
       " 933]"
      ]
     },
     "execution_count": 12,
     "metadata": {},
     "output_type": "execute_result"
    }
   ],
   "source": [
    "list(y)"
   ]
  },
  {
   "cell_type": "code",
   "execution_count": 10,
   "metadata": {},
   "outputs": [
    {
     "name": "stdout",
     "output_type": "stream",
     "text": [
      "[ 250  461  644  806  951 1082 1202 1312 1413 1504 1588 1663 1730 1787 1836\n",
      " 1876 1906 1926 1937 1938 1930 1912 1886 1850 1805 1752 1692 1625 1551 1472\n",
      " 1389 1301 1210 1117 1023  929  835  743  654  568  486  409  338  273  216\n",
      "  167  126   94   70   56   52   57   71   94  126  167  217  274  338  409\n",
      "  486  568  655  745  837  930 1024 1119 1212 1303 1391 1475 1554 1627 1694\n",
      " 1754 1806 1851 1887 1914 1932 1941 1940 1930 1910 1881 1843 1797 1743 1682\n",
      " 1614 1539 1459 1375 1287 1196 1103 1009  914  820  728  639  554  473  397\n",
      "  327  264  208  160  121   90   68   56   53   59   75  100  134  176  227\n",
      "  285  350  422  500  583  670]\n"
     ]
    }
   ],
   "source": [
    "print(y_new)"
   ]
  },
  {
   "cell_type": "code",
   "execution_count": 11,
   "metadata": {},
   "outputs": [
    {
     "data": {
      "image/png": "[encoded data removed]",
      "text/plain": [
       "<Figure size 432x288 with 1 Axes>"
      ]
     },
     "metadata": {
      "needs_background": "light"
     },
     "output_type": "display_data"
    }
   ],
   "source": [
    "plt.plot(x,y_new)\n",
    "plt.plot(x,y)\n",
    "plt.show()"
   ]
  },
  {
   "cell_type": "code",
   "execution_count": null,
   "metadata": {},
   "outputs": [],
   "source": []
  }
 ],
 "metadata": {
  "kernelspec": {
   "display_name": "Python 3",
   "language": "python",
   "name": "python3"
  },
  "language_info": {
   "codemirror_mode": {
    "name": "ipython",
    "version": 3
   },
   "file_extension": ".py",
   "mimetype": "text/x-python",
   "name": "python",
   "nbconvert_exporter": "python",
   "pygments_lexer": "ipython3",
   "version": "3.6.8"
  }
 },
 "nbformat": 4,
 "nbformat_minor": 2
}
